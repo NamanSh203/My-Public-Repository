{
 "cells": [
  {
   "cell_type": "code",
   "execution_count": null,
   "id": "94ed594c",
   "metadata": {},
   "outputs": [],
   "source": [
    "#The big dataset of ultra-marathon running. Let's explore!\n",
    "\n",
    "import pandas as pd\n",
    "import numpy as np\n",
    "import seaborn as sns"
   ]
  },
  {
   "cell_type": "code",
   "execution_count": null,
   "id": "0d36fcc7",
   "metadata": {},
   "outputs": [],
   "source": [
    "#Load the csv file as a pandas DataFrame\n",
    "df = pd.read_csv('TWO_CENTURIES_OF_UM_RACES.csv')"
   ]
  },
  {
   "cell_type": "code",
   "execution_count": null,
   "id": "a430426b",
   "metadata": {},
   "outputs": [],
   "source": [
    "#Sneakpeak into the data\n",
    "df.head()"
   ]
  },
  {
   "cell_type": "code",
   "execution_count": null,
   "id": "7e4e8823",
   "metadata": {},
   "outputs": [],
   "source": [
    "#More insights into the data\n",
    "df.info()"
   ]
  },
  {
   "cell_type": "code",
   "execution_count": null,
   "id": "efc884f6",
   "metadata": {},
   "outputs": [],
   "source": [
    "# About 7.5 million records of data. Let's refine the data to explore!"
   ]
  },
  {
   "cell_type": "code",
   "execution_count": null,
   "id": "8fde124b",
   "metadata": {},
   "outputs": [],
   "source": [
    "#Only want data for US with 50km or 50 miles races held in 2020."
   ]
  },
  {
   "cell_type": "code",
   "execution_count": null,
   "id": "3ca2bfd0",
   "metadata": {},
   "outputs": [],
   "source": [
    "# Step 1:Show 50km or 50 miles in the dataset to find the convention used for depicting distance\n",
    "# Step 2: Combine 50k and 50mi using isin (or by using an 'or' statement)\n",
    "# Step 3: Add the final condition year 2020\n",
    "# Step 4: Filter results for USA"
   ]
  },
  {
   "cell_type": "code",
   "execution_count": null,
   "id": "2a9a2498",
   "metadata": {},
   "outputs": [],
   "source": [
    "#Getting Step 1 and Step 2 done here\n",
    "df[df['Event distance/length'].isin(['50k','50mi'])]"
   ]
  },
  {
   "cell_type": "code",
   "execution_count": null,
   "id": "0ebf1563",
   "metadata": {},
   "outputs": [],
   "source": [
    "#Combining step 2 and 3\n",
    "#Alternate way: df[((df['Event distance/length'] == '50km') | (df['Event distance/length'] == '50mi'))  & (df['Year of event'] == 2020)]\n",
    "df[(df['Event distance/length'].isin(['50km','50mi'])) & (df['Year of event'] == 2020)]"
   ]
  },
  {
   "cell_type": "code",
   "execution_count": null,
   "id": "bfef155a",
   "metadata": {},
   "outputs": [],
   "source": [
    "#Problem Statement: There is no direct field capturing the country name. Need to extract it from the column \"Event name\"!"
   ]
  },
  {
   "cell_type": "code",
   "execution_count": null,
   "id": "2ef82755",
   "metadata": {},
   "outputs": [],
   "source": [
    "df[df['Event name'].str.split('(').str.get(1).str.split(')').str.get(0) == 'USA']"
   ]
  },
  {
   "cell_type": "code",
   "execution_count": null,
   "id": "7632b3a4",
   "metadata": {},
   "outputs": [],
   "source": [
    "# Combining step 2,3 and 4 to refine the final dataset for exploration"
   ]
  },
  {
   "cell_type": "code",
   "execution_count": null,
   "id": "ce108578",
   "metadata": {},
   "outputs": [],
   "source": [
    "df[(df['Event distance/length'].isin(['50km','50mi'])) & (df['Year of event'] == 2020) & (df['Event name'].str.split('(').str.get(1).str.split(')').str.get(0) == 'USA')]"
   ]
  },
  {
   "cell_type": "code",
   "execution_count": null,
   "id": "f1d26ec3",
   "metadata": {},
   "outputs": [],
   "source": [
    "#Store the above obtained dataset as a new DataFrame. This is out refined data to explore!"
   ]
  },
  {
   "cell_type": "code",
   "execution_count": null,
   "id": "50407095",
   "metadata": {},
   "outputs": [],
   "source": [
    "df2 = df[(df['Event distance/length'].isin(['50km','50mi'])) & (df['Year of event'] == 2020) & (df['Event name'].str.split('(').str.get(1).str.split(')').str.get(0) == 'USA')]"
   ]
  },
  {
   "cell_type": "code",
   "execution_count": null,
   "id": "e53eb0a5",
   "metadata": {},
   "outputs": [],
   "source": [
    "df2.head(5)"
   ]
  },
  {
   "cell_type": "code",
   "execution_count": null,
   "id": "077d68f3",
   "metadata": {},
   "outputs": [],
   "source": [
    "# We have the dataset consisting of USA only. Let's remove the redundant term (USA) from the 'Event name' column"
   ]
  },
  {
   "cell_type": "code",
   "execution_count": null,
   "id": "974ca064",
   "metadata": {},
   "outputs": [],
   "source": [
    "df2['Event name'] = df2['Event name'].str.split('(').str.get(0)"
   ]
  },
  {
   "cell_type": "code",
   "execution_count": null,
   "id": "62f21ea6",
   "metadata": {},
   "outputs": [],
   "source": [
    "#Clean up athlete age"
   ]
  },
  {
   "cell_type": "code",
   "execution_count": null,
   "id": "2ae6ff3f",
   "metadata": {},
   "outputs": [],
   "source": [
    "df2['Athlete_age'] = 2020 - df2['Athlete year of birth']"
   ]
  },
  {
   "cell_type": "code",
   "execution_count": null,
   "id": "a112df6e",
   "metadata": {},
   "outputs": [],
   "source": [
    "df2.head()"
   ]
  },
  {
   "cell_type": "code",
   "execution_count": null,
   "id": "fa9bbad6",
   "metadata": {},
   "outputs": [],
   "source": [
    "#Remove h from athlete performance"
   ]
  },
  {
   "cell_type": "code",
   "execution_count": null,
   "id": "d2744200",
   "metadata": {},
   "outputs": [],
   "source": [
    "df2['Athlete performance'] = df2['Athlete performance'].str.split(' ').str.get(0)"
   ]
  },
  {
   "cell_type": "code",
   "execution_count": null,
   "id": "b7b1555f",
   "metadata": {},
   "outputs": [],
   "source": [
    "df2.head()"
   ]
  },
  {
   "cell_type": "code",
   "execution_count": null,
   "id": "d564f13f",
   "metadata": {},
   "outputs": [],
   "source": [
    "#drop columns: Athlete Club, Athlete Country, Athlete year of birth, Athlete age category"
   ]
  },
  {
   "cell_type": "code",
   "execution_count": null,
   "id": "289da1cc",
   "metadata": {},
   "outputs": [],
   "source": [
    "df2 = df2.drop(['Athlete club','Athlete country','Athlete year of birth','Athlete age category'],axis=1)"
   ]
  },
  {
   "cell_type": "code",
   "execution_count": null,
   "id": "38a7bbd9",
   "metadata": {},
   "outputs": [],
   "source": [
    "df2.head()"
   ]
  },
  {
   "cell_type": "code",
   "execution_count": null,
   "id": "0d612c7f",
   "metadata": {},
   "outputs": [],
   "source": [
    "#Clean up null values"
   ]
  },
  {
   "cell_type": "code",
   "execution_count": null,
   "id": "2ae6d820",
   "metadata": {},
   "outputs": [],
   "source": [
    "df2.isna().sum()"
   ]
  },
  {
   "cell_type": "code",
   "execution_count": null,
   "id": "cf823fad",
   "metadata": {},
   "outputs": [],
   "source": [
    "df2[df2['Athlete_age'].isna()==1]"
   ]
  },
  {
   "cell_type": "code",
   "execution_count": null,
   "id": "b90d74f4",
   "metadata": {},
   "outputs": [],
   "source": [
    "df2 = df2.dropna()"
   ]
  },
  {
   "cell_type": "code",
   "execution_count": null,
   "id": "489ff903",
   "metadata": {},
   "outputs": [],
   "source": [
    "df2.shape"
   ]
  },
  {
   "cell_type": "code",
   "execution_count": null,
   "id": "209c1e37",
   "metadata": {},
   "outputs": [],
   "source": [
    "#Check for duplicates"
   ]
  },
  {
   "cell_type": "code",
   "execution_count": null,
   "id": "4b3b7fd3",
   "metadata": {},
   "outputs": [],
   "source": [
    "df2[df2.duplicated() == True]"
   ]
  },
  {
   "cell_type": "code",
   "execution_count": null,
   "id": "14629198",
   "metadata": {},
   "outputs": [],
   "source": [
    "#No duplicates found from the above code\n",
    "#Reset index"
   ]
  },
  {
   "cell_type": "code",
   "execution_count": null,
   "id": "73e03f76",
   "metadata": {},
   "outputs": [],
   "source": [
    "df2.reset_index(drop=True)"
   ]
  },
  {
   "cell_type": "code",
   "execution_count": null,
   "id": "8f58d27e",
   "metadata": {},
   "outputs": [],
   "source": [
    "#Fix few other datatypes\n",
    "df2.info()"
   ]
  },
  {
   "cell_type": "code",
   "execution_count": null,
   "id": "de9c89ab",
   "metadata": {},
   "outputs": [],
   "source": [
    "#Change datatype of athlete age from float to int\n",
    "df2['Athlete_age'] = df2[\"Athlete_age\"].astype(int)"
   ]
  },
  {
   "cell_type": "code",
   "execution_count": null,
   "id": "0de99dc9",
   "metadata": {},
   "outputs": [],
   "source": [
    "#Change datatype of average speed from object to float\n",
    "df2['Athlete average speed'] = df2['Athlete average speed'].astype(float)"
   ]
  },
  {
   "cell_type": "code",
   "execution_count": null,
   "id": "c4575c8a",
   "metadata": {},
   "outputs": [],
   "source": [
    "df2.head()"
   ]
  },
  {
   "cell_type": "code",
   "execution_count": null,
   "id": "8c908379",
   "metadata": {},
   "outputs": [],
   "source": [
    "#Rename columns with familiar convention"
   ]
  },
  {
   "cell_type": "code",
   "execution_count": null,
   "id": "5357309f",
   "metadata": {},
   "outputs": [],
   "source": [
    "df2 = df2.rename(columns = {'Year of event': 'year' ,\n",
    "                            'Event dates': 'race_day',\n",
    "                            'Event name': 'race_name',\n",
    "                            'Event distance/length': 'race_length',\n",
    "                            'Event number of finishers': 'race_number_of_finishers' ,\n",
    "                            'Athlete performance': 'athlete_performance',\n",
    "                            'Athlete gender': 'athlete_gender',\n",
    "                            'Athlete average speed': 'athlete_average_speed',\n",
    "                            'Athlete ID': 'athlete_id',\n",
    "                            'Athlete_age': 'athlete_age',\n",
    "                           })"
   ]
  },
  {
   "cell_type": "code",
   "execution_count": null,
   "id": "d37cec3c",
   "metadata": {},
   "outputs": [],
   "source": [
    "df2.head()"
   ]
  },
  {
   "cell_type": "code",
   "execution_count": null,
   "id": "6f67d1d6",
   "metadata": {},
   "outputs": [],
   "source": [
    "#Reorder columns "
   ]
  },
  {
   "cell_type": "code",
   "execution_count": null,
   "id": "6dfa22f5",
   "metadata": {},
   "outputs": [],
   "source": [
    "df3 = df2[['race_day','race_name','race_length','race_number_of_finishers','athlete_id','athlete_gender','athlete_age','athlete_average_speed','athlete_performance','athlete_id']]"
   ]
  },
  {
   "cell_type": "code",
   "execution_count": null,
   "id": "cfafc78b",
   "metadata": {},
   "outputs": [],
   "source": [
    "df3.head()"
   ]
  },
  {
   "cell_type": "code",
   "execution_count": null,
   "id": "63980b88",
   "metadata": {},
   "outputs": [],
   "source": [
    "df3.shape"
   ]
  },
  {
   "cell_type": "code",
   "execution_count": null,
   "id": "b002c5bc",
   "metadata": {},
   "outputs": [],
   "source": [
    "#The data is now refined as per my requirements. On we go to visualize!\n",
    "#Seaborn section ahead"
   ]
  },
  {
   "cell_type": "code",
   "execution_count": null,
   "id": "49b1ee5a",
   "metadata": {},
   "outputs": [],
   "source": [
    "# Distribution of 50km and 50mi races\n",
    "sns.histplot(df3, x = 'race_length')"
   ]
  },
  {
   "cell_type": "code",
   "execution_count": null,
   "id": "d9b08b78",
   "metadata": {},
   "outputs": [],
   "source": [
    "# Males vs females categories\n",
    "sns.histplot(df3, x = 'race_length',hue= 'athlete_gender')"
   ]
  },
  {
   "cell_type": "code",
   "execution_count": null,
   "id": "ad908057",
   "metadata": {},
   "outputs": [],
   "source": [
    "#Distribution of 50mi runners wrt their average speed\n",
    "sns.displot(df3[df3['race_length'] == '50mi'], x = 'athlete_average_speed')"
   ]
  },
  {
   "cell_type": "code",
   "execution_count": null,
   "id": "80da75a6",
   "metadata": {},
   "outputs": [],
   "source": [
    "#violin plot\n",
    "sns.violinplot(df3,x='race_length',y='athlete_average_speed',hue='athlete_gender', split=True, inner='quarts', linewidth=1 )"
   ]
  },
  {
   "cell_type": "code",
   "execution_count": null,
   "id": "d4f36011",
   "metadata": {},
   "outputs": [],
   "source": [
    "#lmplot\n",
    "sns.lmplot(df3, x='athlete_age',y = 'athlete_average_speed', hue = 'athlete_gender')"
   ]
  },
  {
   "cell_type": "code",
   "execution_count": null,
   "id": "6f19238e",
   "metadata": {},
   "outputs": [],
   "source": [
    "#I want to find answers/explanations for the below questions\n"
   ]
  },
  {
   "cell_type": "code",
   "execution_count": null,
   "id": "66218a36",
   "metadata": {},
   "outputs": [],
   "source": [
    " # Difference in speed for the 50k, 50mi male to female\n",
    "df3.groupby(['race_length','athlete_gender'])['athlete_average_speed'].mean()  "
   ]
  },
  {
   "cell_type": "code",
   "execution_count": null,
   "id": "d81849bd",
   "metadata": {},
   "outputs": [],
   "source": [
    "#What age groups are the fastest in the 50mi race (min 20 races)\n",
    "# df3[df3['race_length']=='50mi']\n",
    "df3.query('race_length == \"50mi\"').groupby('athlete_age')['athlete_average_speed'].agg(['mean','count']).sort_values('mean',ascending=False).query('count >= 19')"
   ]
  },
  {
   "cell_type": "code",
   "execution_count": null,
   "id": "c4edd67b",
   "metadata": {},
   "outputs": [],
   "source": [
    "#What age groups are the slowest in the 50mi race (min 20 races)\n",
    "df3.query('race_length == \"50mi\"').groupby('athlete_age')['athlete_average_speed'].agg(['mean','count']).sort_values('mean',ascending=True).query('count >= 20')"
   ]
  },
  {
   "cell_type": "code",
   "execution_count": null,
   "id": "46b232f6",
   "metadata": {},
   "outputs": [],
   "source": [
    "#Season wise exploration of the data\n",
    "#Spring: 3-5\n",
    "#Summer: 6-8\n",
    "#Fall: 9-11\n",
    "#Winter: 12-2"
   ]
  },
  {
   "cell_type": "code",
   "execution_count": null,
   "id": "9b02ac6c",
   "metadata": {},
   "outputs": [],
   "source": [
    "#Non month column. Need to extract month from race_day!\n",
    "#df3['race_day'].str.split('.').str.get(1).astype(int)\n",
    "df3['race_month'] = df3['race_day'].str.split('.').str.get(1).astype(int)"
   ]
  },
  {
   "cell_type": "code",
   "execution_count": null,
   "id": "4d103136",
   "metadata": {},
   "outputs": [],
   "source": [
    "df3.head()"
   ]
  },
  {
   "cell_type": "code",
   "execution_count": null,
   "id": "f74eaee0",
   "metadata": {},
   "outputs": [],
   "source": [
    "#Name a new column as race_season based on race_month"
   ]
  },
  {
   "cell_type": "code",
   "execution_count": null,
   "id": "1637c0ba",
   "metadata": {},
   "outputs": [],
   "source": [
    "#Create a function to capture season name from race_month\n",
    "def my_func(x):\n",
    "    if (x in [3,4,5]):\n",
    "        return 'Spring'\n",
    "    elif (x in [6,7,8]):\n",
    "        return 'Summer'\n",
    "    elif (x in [9,10,11]):\n",
    "        return 'Fall'\n",
    "    else:\n",
    "        return 'Winter'"
   ]
  },
  {
   "cell_type": "code",
   "execution_count": null,
   "id": "5d3c6bcf",
   "metadata": {},
   "outputs": [],
   "source": [
    "#Add race season column using the function my_func\n",
    "df3['race_season'] = df3['race_month'].apply(my_func)"
   ]
  },
  {
   "cell_type": "code",
   "execution_count": null,
   "id": "f97e2bea",
   "metadata": {},
   "outputs": [],
   "source": [
    "df3.head()"
   ]
  },
  {
   "cell_type": "code",
   "execution_count": null,
   "id": "5b360c9d",
   "metadata": {},
   "outputs": [],
   "source": [
    "df3.groupby('race_season')['athlete_average_speed'].agg(['mean','count']).sort_values('mean',ascending=False)"
   ]
  },
  {
   "cell_type": "code",
   "execution_count": null,
   "id": "9dcb68cb",
   "metadata": {},
   "outputs": [],
   "source": [
    "#Interested in data of 50mi only"
   ]
  },
  {
   "cell_type": "code",
   "execution_count": null,
   "id": "e73b55b3",
   "metadata": {},
   "outputs": [],
   "source": [
    "df3.query('race_length == \"50mi\"').groupby('race_season')['athlete_average_speed'].agg(['mean','count']).sort_values('mean',ascending = False)"
   ]
  }
 ],
 "metadata": {
  "kernelspec": {
   "display_name": "Python 3 (ipykernel)",
   "language": "python",
   "name": "python3"
  },
  "language_info": {
   "codemirror_mode": {
    "name": "ipython",
    "version": 3
   },
   "file_extension": ".py",
   "mimetype": "text/x-python",
   "name": "python",
   "nbconvert_exporter": "python",
   "pygments_lexer": "ipython3",
   "version": "3.10.9"
  }
 },
 "nbformat": 4,
 "nbformat_minor": 5
}
